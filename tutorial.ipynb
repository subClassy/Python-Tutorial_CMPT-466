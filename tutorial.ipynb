{
  "cells": [
    {
      "cell_type": "markdown",
      "metadata": {
        "id": "view-in-github",
        "colab_type": "text"
      },
      "source": [
        "<a href=\"https://colab.research.google.com/github/subClassy/Python-Tutorial_CMPT-466/blob/main/tutorial.ipynb\" target=\"_parent\"><img src=\"https://colab.research.google.com/assets/colab-badge.svg\" alt=\"Open In Colab\"/></a>"
      ]
    },
    {
      "cell_type": "markdown",
      "metadata": {
        "id": "XKTm4A8M7w4a"
      },
      "source": [
        "# CMPT 466\n",
        "# Python Introduction"
      ]
    },
    {
      "cell_type": "markdown",
      "metadata": {
        "id": "upBHCy5RLQk2"
      },
      "source": [
        "<div id=section0></div>\n",
        "\n",
        "# Basics:types arithmetics, input and output"
      ]
    },
    {
      "cell_type": "code",
      "execution_count": null,
      "metadata": {
        "cellView": "form",
        "id": "kbnyc_ATaufJ",
        "outputId": "4de396df-a0e1-4de8-ea87-e169a0925d9e"
      },
      "outputs": [
        {
          "name": "stdout",
          "output_type": "stream",
          "text": [
            "value of a:  2\n",
            "type of a:  <class 'int'>\n",
            "value of b:  True\n",
            "type of b:  <class 'bool'>\n",
            "value of c:  Hello\n",
            "type of c:  <class 'str'>\n"
          ]
        }
      ],
      "source": [
        "# Types and Output\n",
        "a = 2\n",
        "b = True\n",
        "c = 'Hello'\n",
        "\n",
        "#output: printing\n",
        "\n",
        "print('value of a: ', a)\n",
        "print('type of a: ', type(a))\n",
        "\n",
        "print('value of b: ', b)\n",
        "print('type of b: ',type(b))\n",
        "\n",
        "print('value of c: ', c)\n",
        "print('type of c: ',type(c))\n",
        "\n"
      ]
    },
    {
      "cell_type": "code",
      "execution_count": null,
      "metadata": {
        "cellView": "form",
        "id": "fbBy_AgUdCIJ",
        "outputId": "54fc32ef-9884-4eb8-e58a-a27e57535ce3"
      },
      "outputs": [
        {
          "name": "stdout",
          "output_type": "stream",
          "text": [
            "sum:  27\n",
            "sub:  13\n",
            "mult:  140\n",
            "div:  2.857142857142857\n",
            "rem:  6\n"
          ]
        }
      ],
      "source": [
        "# simple arithmetics\n",
        "#simple arithmetics\n",
        "a = 20\n",
        "b = 7\n",
        "\n",
        "#summation\n",
        "c = a + b\n",
        "print('sum: ', c)\n",
        "#subtraction\n",
        "c = a - b\n",
        "print('sub: ', c)\n",
        "#multiplication\n",
        "c = a * b\n",
        "print('mult: ', c)\n",
        "#divison\n",
        "c = 20 / 7\n",
        "print('div: ', c)\n",
        "#remainder\n",
        "c = 20 % 7\n",
        "print('rem: ', c)"
      ]
    },
    {
      "cell_type": "code",
      "execution_count": null,
      "metadata": {
        "cellView": "form",
        "id": "j2CSirgGJwwl",
        "outputId": "f0669af4-1aa1-4bf0-a062-3dcb513441ad"
      },
      "outputs": [
        {
          "name": "stdout",
          "output_type": "stream",
          "text": [
            "True\n",
            "False\n",
            "True\n"
          ]
        }
      ],
      "source": [
        "# logical operations\n",
        "\n",
        "print(2 == 2)\n",
        "print(2 > 4)\n",
        "print(not 2 > 4)"
      ]
    },
    {
      "cell_type": "code",
      "execution_count": null,
      "metadata": {
        "cellView": "form",
        "id": "xsJUbMbJb59M",
        "outputId": "26bc5837-7afc-4b8c-8391-0aed49e2ba84"
      },
      "outputs": [
        {
          "name": "stdout",
          "output_type": "stream",
          "text": [
            "the user input is  56\n"
          ]
        }
      ],
      "source": [
        "# getting user input\n",
        "#getting user input\n",
        "inp = int(input('Please insert an integer'))\n",
        "print('the user input is ', inp)\n"
      ]
    },
    {
      "cell_type": "code",
      "execution_count": null,
      "metadata": {
        "cellView": "form",
        "id": "pcXADTiSD3YA",
        "outputId": "6698a63c-2874-42ca-85d9-13ba8343c243"
      },
      "outputs": [
        {
          "name": "stdout",
          "output_type": "stream",
          "text": [
            "value of a: 2 , type of a: <class 'str'>\n",
            "value of a_int: 2 , type of a_int: <class 'int'>\n",
            "value of a_float: 2.0 , type of a_float: <class 'float'>\n"
          ]
        }
      ],
      "source": [
        "# converting types\n",
        "a = '2'\n",
        "print('value of a:', a, ', type of a:', type(a))\n",
        "a_int = int(a)\n",
        "print('value of a_int:', a_int, ', type of a_int:', type(a_int))\n",
        "a_float = float(a)\n",
        "print('value of a_float:', a_float, ', type of a_float:', type(a_float))"
      ]
    },
    {
      "cell_type": "markdown",
      "metadata": {
        "id": "q5O7DpNvfr4y"
      },
      "source": [
        "<div id='section_1'></div>\n",
        "\n",
        "# Lists\n",
        "\n",
        "Lists in python are an ordered, mutable set of objects."
      ]
    },
    {
      "cell_type": "code",
      "execution_count": null,
      "metadata": {
        "cellView": "form",
        "id": "GyKqhCiYh7eZ",
        "outputId": "9649cba4-cca2-4647-a9a2-0139924fc168"
      },
      "outputs": [
        {
          "name": "stdout",
          "output_type": "stream",
          "text": [
            "[]\n",
            "[1, 2, 3, 4, 5]\n",
            "['Ian', 'Anish', 'Magnus', 'Hikaru']\n",
            "[1, True, 'John', 2.5]\n",
            "----------------------\n",
            "1 True John 2.5\n"
          ]
        }
      ],
      "source": [
        "# initializing and printing lists\n",
        "#lists can store different types of variables\n",
        "\n",
        "l1 = []\n",
        "l2 = [1, 2, 3, 4, 5]\n",
        "l3 = ['Ian', 'Anish', 'Magnus', 'Hikaru']\n",
        "l4 = [1, True, 'John', 2.5]\n",
        "\n",
        "#don't need to loop over the list to print\n",
        "print(l1)\n",
        "print(l2)\n",
        "print(l3)\n",
        "print(l4)"
      ]
    },
    {
      "cell_type": "code",
      "execution_count": null,
      "metadata": {
        "cellView": "form",
        "id": "LZi8ix0aifWO",
        "outputId": "7b62818a-08cc-4946-e149-f9e212a00f42"
      },
      "outputs": [
        {
          "name": "stdout",
          "output_type": "stream",
          "text": [
            "4\n",
            "[3, 4, 5, 6]\n",
            "[1, 2, 3, 4]\n",
            "[8, 9, 10]\n",
            "[2, 4, 6]\n",
            "[8, 6, 4]\n",
            "[10, 9, 8, 7, 6, 5, 4, 3, 2, 1]\n"
          ]
        }
      ],
      "source": [
        "# indexing items of a list\n",
        "\n",
        "\n",
        "l = [1, 2, 3, 4, 5, 6, 7, 8, 9, 10]\n",
        "\n",
        "print(l[3])\n",
        "print(l[2:6])\n",
        "print(l[:4])\n",
        "print(l[7:])\n",
        "print(l[1:7:2])\n",
        "print(l[7:1:-2])\n",
        "print(l[::-1])\n",
        "\n"
      ]
    },
    {
      "cell_type": "code",
      "execution_count": null,
      "metadata": {
        "cellView": "form",
        "id": "jy8d3Xn8obRI",
        "outputId": "67e7d312-b0e5-426e-9514-f7a2a392b862"
      },
      "outputs": [
        {
          "name": "stdout",
          "output_type": "stream",
          "text": [
            "10\n"
          ]
        }
      ],
      "source": [
        "# length of a list\n",
        "\n",
        "l = [1, 2, 3, 4, 5, 6, 7, 8, 9, 10]\n",
        "print(len(l))"
      ]
    },
    {
      "cell_type": "code",
      "execution_count": null,
      "metadata": {
        "cellView": "form",
        "id": "CjPzljTamj3S",
        "outputId": "98d64cc5-9207-4cd5-9ef2-a723c08c68e9"
      },
      "outputs": [
        {
          "name": "stdout",
          "output_type": "stream",
          "text": [
            "l after updating:  [1, 2, 30, 4, 5]\n"
          ]
        }
      ],
      "source": [
        "# Updating lists\n",
        "\n",
        "#values in a list can be changed\n",
        "l = [1, 2, 3, 4, 5]\n",
        "l[2] = 30\n",
        "print('l after updating: ', l)"
      ]
    },
    {
      "cell_type": "code",
      "execution_count": null,
      "metadata": {
        "cellView": "form",
        "id": "G4JdR1RIjuHf",
        "outputId": "1db8608d-9cd1-4e8c-fc47-9b8f8967b403"
      },
      "outputs": [
        {
          "name": "stdout",
          "output_type": "stream",
          "text": [
            "l after deleting the second item:  [1, 3, 30, 5, 30]\n",
            "l after deleting 30:  [1, 3, 5, 30]\n"
          ]
        }
      ],
      "source": [
        "# Deleting from lists\n",
        "\n",
        "#deleting an item from the list by index\n",
        "l2 = [1, 2, 3, 30, 5]\n",
        "l2.pop(1)\n",
        "print('l after deleting the second item: ', l2)\n",
        "\n",
        "#can also use the following:\n",
        "  #del(l[1])\n",
        "\n",
        "#deleting an item from the list by the item itself\n",
        "\n",
        "l2.remove(30)\n",
        "print('l after deleting 30: ', l2)"
      ]
    },
    {
      "cell_type": "code",
      "execution_count": null,
      "metadata": {
        "cellView": "form",
        "id": "R1HnTyYIjweC",
        "outputId": "11f8a4a8-57d6-4f00-c1d7-c6207a90f5f8"
      },
      "outputs": [
        {
          "name": "stdout",
          "output_type": "stream",
          "text": [
            "l3 after adding an item:  ['Ian', 'Anish', 'Magnus', 'Hikaru', 'Maxime']\n",
            "l3 after adding an item to a specific position:  ['Ian', 'Maxime', 'Anish', 'Magnus', 'Hikaru', 'Maxime']\n"
          ]
        }
      ],
      "source": [
        "# Inserting to a list\n",
        "l3 = ['Ian', 'Anish', 'Magnus', 'Hikaru']\n",
        "#adding items to the and of a list\n",
        "l3.append('Maxime')\n",
        "print('l3 after adding an item: ', l3)\n",
        "\n",
        "#adding items to a specific position in the list\n",
        "l3.insert(1, 'Maxime')\n",
        "print('l3 after adding an item to a specific position: ', l3)"
      ]
    },
    {
      "cell_type": "markdown",
      "metadata": {
        "id": "hWubTaSslrGG"
      },
      "source": [
        "lists are a built-in classes in python with a lot more functions and useful methods for searching, counting, etc. No one can memorize all these functions so before implementing stuff in python just do a quick search first"
      ]
    },
    {
      "cell_type": "code",
      "execution_count": null,
      "metadata": {
        "cellView": "form",
        "id": "j-iKV5BHoIZN",
        "outputId": "853338a0-184a-4151-e494-6218221c221a"
      },
      "outputs": [
        {
          "name": "stdout",
          "output_type": "stream",
          "text": [
            "[[1, 2, 3], [4, 5, 6], [7, 8, 9, 10]]\n"
          ]
        }
      ],
      "source": [
        "# multi-dimensional lists\n",
        "\n",
        "\n",
        "l = [[1, 2, 3], [4, 5, 6], [7, 8, 9, 10]]\n",
        "print(l)"
      ]
    },
    {
      "cell_type": "markdown",
      "metadata": {
        "id": "k2RfjQK18pw2"
      },
      "source": [
        "# Conditions (if-elif-else)"
      ]
    },
    {
      "cell_type": "code",
      "execution_count": null,
      "metadata": {
        "cellView": "form",
        "id": "pZxxq63-9Pjz"
      },
      "outputs": [],
      "source": [
        "# example 1\n",
        "\n",
        "var = 100\n",
        "\n",
        "if var == 100:\n",
        "  print('value of var is 100')\n",
        "elif var == 200:\n",
        "  print('value of var is 200')\n",
        "else:\n",
        "  print('value of var is neither 100 nor 200')"
      ]
    },
    {
      "cell_type": "markdown",
      "metadata": {
        "id": "Ek88Ai-Y-ejf"
      },
      "source": [
        "# Loops (for-while)"
      ]
    },
    {
      "cell_type": "code",
      "execution_count": null,
      "metadata": {
        "cellView": "form",
        "id": "El3f2Tjh-tIO"
      },
      "outputs": [],
      "source": [
        "# for loop: example 1\n",
        "#in the for loop below range starts from 0 and goes to 9\n",
        "for i in range(10):\n",
        "  print(i)"
      ]
    },
    {
      "cell_type": "code",
      "execution_count": null,
      "metadata": {
        "cellView": "form",
        "id": "nUidaga6-0-d"
      },
      "outputs": [],
      "source": [
        "# for loop: example 2\n",
        "#in the for loop below range starts from 2 and goes to 9\n",
        "for i in range(2, 10):\n",
        "  print(i)"
      ]
    },
    {
      "cell_type": "code",
      "execution_count": null,
      "metadata": {
        "cellView": "form",
        "id": "aQPAq7Rk_Bhu"
      },
      "outputs": [],
      "source": [
        "# for loop: example 3\n",
        "#in the for loop below range starts from 0 to 9, but jumps two steps\n",
        "for i in range(0, 10, 2):\n",
        "  print(i)"
      ]
    },
    {
      "cell_type": "code",
      "execution_count": null,
      "metadata": {
        "cellView": "form",
        "id": "90Qf6qoU_UyQ"
      },
      "outputs": [],
      "source": [
        "# for loop: example 4\n",
        "#in the for loop below the range is reveresed from 10 to 1\n",
        "for i in range(10, 1, -1):\n",
        "  print(i)"
      ]
    },
    {
      "cell_type": "code",
      "execution_count": null,
      "metadata": {
        "cellView": "form",
        "id": "wM7yM2iIASLW"
      },
      "outputs": [],
      "source": [
        "# for loop: example 5\n",
        "#defining a list using for\n",
        "lst = [i for i in range(10)]\n",
        "print(lst)"
      ]
    },
    {
      "cell_type": "code",
      "execution_count": null,
      "metadata": {
        "cellView": "form",
        "id": "nmvwr6l-AjO3"
      },
      "outputs": [],
      "source": [
        "# for loop: example 6\n",
        "#you can iterate over objects too\n",
        "lst = ['one', 'two', 'three', 'four', 'five']\n",
        "for number in lst:\n",
        "  print(number)\n",
        "\n",
        "[print('------------------------\\n')]\n",
        "#enumerate gives you both the indexes and the objects\n",
        "for i, number in enumerate(lst):\n",
        "  print(i, number)"
      ]
    },
    {
      "cell_type": "code",
      "execution_count": null,
      "metadata": {
        "cellView": "form",
        "id": "gWxxmYm2_rtw"
      },
      "outputs": [],
      "source": [
        "# while loop\n",
        "var = 5\n",
        "i = 0\n",
        "while i < var:\n",
        "  print(i)\n",
        "  i += 1"
      ]
    },
    {
      "cell_type": "markdown",
      "metadata": {
        "id": "FyMGK-HY_wj_"
      },
      "source": [
        "# Practice 1\n",
        "\n",
        "Get a list of integers from user and print their sum."
      ]
    },
    {
      "cell_type": "code",
      "execution_count": null,
      "metadata": {
        "id": "s4QUUiZdCuO-"
      },
      "outputs": [],
      "source": [
        "#get the user input\n",
        "...\n",
        "\n",
        "#convert the user input to a list of integers\n",
        "...\n",
        "\n",
        "#compute the sum and print the result\n",
        "..."
      ]
    },
    {
      "cell_type": "code",
      "execution_count": null,
      "metadata": {
        "cellView": "form",
        "id": "LxtiaOlyDHi-",
        "outputId": "1bfb0a53-32a7-476d-c1d1-945239591044"
      },
      "outputs": [
        {
          "name": "stdout",
          "output_type": "stream",
          "text": [
            "109\n"
          ]
        }
      ],
      "source": [
        "# Solution\n",
        "\n",
        "#get the user input\n",
        "inp = input('please enter list of integers:')\n",
        "\n",
        "#convert the user input to a list of integers\n",
        "inp_int = [int(i) for i in inp.split()]\n",
        "\n",
        "#compute the sum and print the result\n",
        "sum = 0\n",
        "for i in inp_int:\n",
        "  sum += i\n",
        "print(sum)"
      ]
    },
    {
      "cell_type": "markdown",
      "metadata": {
        "id": "wmeIeH1fnOh4"
      },
      "source": [
        "# Functions\n"
      ]
    },
    {
      "cell_type": "code",
      "execution_count": null,
      "metadata": {
        "cellView": "form",
        "id": "9C0RT1lp_26T"
      },
      "outputs": [],
      "source": [
        "# add function\n",
        "\n",
        "#a simple add function that gets two numbers and outputs their sum\n",
        "def add_func(a, b):\n",
        "  return a + b\n",
        "\n",
        "print(add_func(3, 5))"
      ]
    },
    {
      "cell_type": "code",
      "execution_count": null,
      "metadata": {
        "cellView": "form",
        "id": "EZBwQ6PvBBbr",
        "outputId": "3d93716a-8d50-4647-d789-9a809df0644b"
      },
      "outputs": [
        {
          "name": "stdout",
          "output_type": "stream",
          "text": [
            "0 Hi\n",
            "1 2\n",
            "2 [3, 4, 1]\n"
          ]
        }
      ],
      "source": [
        "# function with unknown number of arguments\n",
        "\n",
        "def func(*args):\n",
        "  for i, a in enumerate(args):\n",
        "    print(i, a)\n",
        "\n",
        "func('Hi', 2, [3,4,1])"
      ]
    },
    {
      "cell_type": "code",
      "execution_count": null,
      "metadata": {
        "cellView": "form",
        "id": "7ZyArSCpBcrT"
      },
      "outputs": [],
      "source": [
        "# function with default values\n",
        "\n",
        "def add_sub(a, b, add_flag = True):\n",
        "  if add_flag:\n",
        "    return a + b\n",
        "  return a - b\n",
        "\n",
        "print('calling with add_flag set to True:', add_sub(5,6))\n",
        "print('calling with add_flag set to False:', add_sub(5,6, False))"
      ]
    },
    {
      "cell_type": "code",
      "execution_count": null,
      "metadata": {
        "cellView": "form",
        "id": "uBTACx4zCPVj"
      },
      "outputs": [],
      "source": [
        "# recursive functions\n",
        "def factorial(n):\n",
        "  if n == 0:\n",
        "    return 1\n",
        "  return n * factorial(n - 1)\n",
        "\n",
        "print(factorial(5))"
      ]
    },
    {
      "cell_type": "markdown",
      "metadata": {
        "id": "x8B82vI8C26N"
      },
      "source": [
        "# Practice 2\n",
        "\n",
        "Write a function that computes the number of ways one can choose r objects from n objects (i.e. $n \\choose r$).\n",
        "\n",
        "reminder:\n",
        "$${n \\choose r} = {n - 1 \\choose r - 1} + {n - 1 \\choose r}$$"
      ]
    },
    {
      "cell_type": "code",
      "execution_count": null,
      "metadata": {
        "id": "u7b4rADmEh63"
      },
      "outputs": [],
      "source": [
        "def choose(n, r):\n",
        "  #write your code here\n",
        "  ..."
      ]
    },
    {
      "cell_type": "code",
      "execution_count": null,
      "metadata": {
        "cellView": "form",
        "id": "V740iHPPEowD"
      },
      "outputs": [],
      "source": [
        "# Solution\n",
        "\n",
        "def choose(n, r):\n",
        "  if n == 1 or r == 0 or n == r:\n",
        "    return 1\n",
        "  return choose(n - 1, r - 1) + choose(n - 1, r)\n",
        "\n",
        "print(choose(6, 3))"
      ]
    },
    {
      "cell_type": "markdown",
      "metadata": {
        "id": "MVm3vficFIVx"
      },
      "source": [
        "# Practice 3 \n",
        "\n",
        "You are given a list of unsorted integers. First sort the list. Secondly implement the binary search algorithm in a function. Finally get a single integer from user and use your implementation to find that integer in the list."
      ]
    },
    {
      "cell_type": "code",
      "execution_count": null,
      "metadata": {
        "cellView": "form",
        "id": "o3odg6A3Gnw9",
        "outputId": "e5780c72-4fec-4f30-dcc7-d4d5a1bb712b"
      },
      "outputs": [
        {
          "name": "stdout",
          "output_type": "stream",
          "text": [
            "[24, 50, 79, 89, 48, 50, 11, 49, 18, 13, 32, 33, 52, 64, 84, 68, 90, 10, 2, 95, 19, 84, 84, 77, 99, 79, 47, 94, 28, 97, 54, 49, 33, 59, 3, 88, 46, 61, 42, 51, 91, 70, 42, 65, 47, 41, 68, 50, 42, 88, 47, 25, 32, 71, 61, 24, 88, 62, 11, 10, 69, 52, 9, 57, 20, 71, 95, 92, 59, 97, 81, 38, 13, 57, 5, 73, 55, 35, 69, 45, 77, 42, 12, 79, 80, 94, 81, 71, 95, 71, 24, 95, 47, 1, 56, 93, 89, 35, 49, 41]\n"
          ]
        }
      ],
      "source": [
        "# please run this cell to generate list. the list name is lst.\n",
        "import random\n",
        "lst = [random.randint(1, 100) for _ in range(100)]\n",
        "print(lst)"
      ]
    },
    {
      "cell_type": "code",
      "execution_count": null,
      "metadata": {
        "id": "oDmA0CKhLdyz",
        "outputId": "decf7514-8200-473c-9cd1-4dff3cd7004b"
      },
      "outputs": [
        {
          "name": "stdout",
          "output_type": "stream",
          "text": [
            "None\n"
          ]
        }
      ],
      "source": [
        "def binary_search(lst, query):\n",
        "  #sort the list\n",
        "  ...\n",
        "  #the start and index of the current list\n",
        "  st = 0\n",
        "  en = len(lst)\n",
        "  #the loop to find the query\n",
        "  ...\n",
        "\n",
        "\n",
        "inp = int(input('input integer: '))\n",
        "print(binary_search(lst, query=inp))\n"
      ]
    },
    {
      "cell_type": "code",
      "execution_count": null,
      "metadata": {
        "cellView": "form",
        "id": "1CN3pKTlGYzd",
        "outputId": "741727f1-80af-4ddf-d462-024ac9b2ca92"
      },
      "outputs": [
        {
          "name": "stdout",
          "output_type": "stream",
          "text": [
            "3\n"
          ]
        }
      ],
      "source": [
        "# Solution\n",
        "def binary_search(lst, query):\n",
        "  lst = sorted(lst)\n",
        "  st = 0\n",
        "  en = len(lst)\n",
        "  while en > st:\n",
        "      middle = (st + en) // 2\n",
        "      if lst[middle] == query:\n",
        "        return middle\n",
        "      elif lst[middle] >query:\n",
        "        en = middle - 1\n",
        "      else:\n",
        "        st = middle + 1\n",
        "\n",
        "  return -1\n",
        "\n",
        "inp = int(input('input integer: '))\n",
        "print(binary_search(lst, query=inp))"
      ]
    },
    {
      "cell_type": "markdown",
      "metadata": {
        "id": "fznaa0bBF5yi"
      },
      "source": [
        "# Classes and object\n",
        "\n",
        "As mentioned in the slides, python supports the object-oriented paradigm. Classes and objects are an important part of python programming. As a reminder classes are a data structure that store a set of attributes, and also a set of functions. For example human could be a class that has the attributes name, age, etc, and functions walking, talking, etc. objects are instances of a class for example Aryan could be an instance of the human class."
      ]
    },
    {
      "cell_type": "code",
      "execution_count": null,
      "metadata": {
        "cellView": "form",
        "id": "X9eYHTTcGlKg",
        "outputId": "26b1789a-57b7-4aae-a382-17045ba5ef20"
      },
      "outputs": [
        {
          "name": "stdout",
          "output_type": "stream",
          "text": [
            "John : Hello!\n",
            "33\n",
            "21325\n"
          ]
        }
      ],
      "source": [
        "# example of a class\n",
        "\n",
        "class Human:\n",
        "  def __init__(self,name, age):\n",
        "    self.name = name\n",
        "    self.age = age\n",
        "    self.__id = 21325\n",
        "\n",
        "  def talk(self, sentence):\n",
        "    print(self.name, \":\", sentence)\n",
        "  def birthday(self):\n",
        "    self.age += 1\n",
        "  def get_id(self):\n",
        "    return self.__id\n",
        "\n",
        "\n",
        "h = Human('John', 32)\n",
        "h.talk('Hello!')\n",
        "\n",
        "h.birthday()\n",
        "print(h.age)\n",
        "print(h.get_id())"
      ]
    }
  ],
  "metadata": {
    "colab": {
      "collapsed_sections": [],
      "name": "tutorial.ipynb",
      "provenance": [],
      "toc_visible": true,
      "include_colab_link": true
    },
    "kernelspec": {
      "display_name": "Python 3",
      "name": "python3"
    },
    "language_info": {
      "codemirror_mode": {
        "name": "ipython",
        "version": 3
      },
      "file_extension": ".py",
      "mimetype": "text/x-python",
      "name": "python",
      "nbconvert_exporter": "python",
      "pygments_lexer": "ipython3",
      "version": "3.8.11"
    }
  },
  "nbformat": 4,
  "nbformat_minor": 0
}