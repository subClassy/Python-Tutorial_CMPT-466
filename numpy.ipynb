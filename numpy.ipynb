{
  "cells": [
    {
      "cell_type": "markdown",
      "metadata": {
        "id": "view-in-github",
        "colab_type": "text"
      },
      "source": [
        "<a href=\"https://colab.research.google.com/github/subClassy/Python-Tutorial_CMPT-466/blob/main/numpy.ipynb\" target=\"_parent\"><img src=\"https://colab.research.google.com/assets/colab-badge.svg\" alt=\"Open In Colab\"/></a>"
      ]
    },
    {
      "cell_type": "markdown",
      "metadata": {
        "id": "uUVcstUx-4cc"
      },
      "source": [
        "<a href=\"https://colab.research.google.com/github/aryanmikaeili/cmpt732_tutorials/blob/master/numpy_tutorial.ipynb\" target=\"_parent\"><img src=\"https://colab.research.google.com/assets/colab-badge.svg\" alt=\"Open In Colab\"/></a>"
      ]
    },
    {
      "cell_type": "markdown",
      "metadata": {
        "id": "1IPWbbOy28uf"
      },
      "source": [
        "# CMPT 466"
      ]
    },
    {
      "cell_type": "markdown",
      "metadata": {
        "id": "cw0WBdTL3O73"
      },
      "source": [
        "# Installing and importing numpy\n",
        "\n",
        "To use numpy in our you should first install the module and then import it in our code. If you don't already have numpy, you can install it with __pip__ (type __pip install numpy__ in terminal)."
      ]
    },
    {
      "cell_type": "code",
      "execution_count": null,
      "metadata": {
        "id": "37x6h7711r8R"
      },
      "outputs": [],
      "source": [
        "#importing numpy\n",
        "\n",
        "import numpy as np"
      ]
    },
    {
      "cell_type": "markdown",
      "metadata": {
        "id": "sw8tnZutUfTe"
      },
      "source": [
        "# Creating arrays"
      ]
    },
    {
      "cell_type": "code",
      "execution_count": null,
      "metadata": {
        "id": "QN1HsmY-U45v",
        "outputId": "7e996cfc-3158-4bae-d940-2e6f2631e031"
      },
      "outputs": [
        {
          "name": "stdout",
          "output_type": "stream",
          "text": [
            "a1:  [1 2 3] type: int32\n",
            "m1:  [[1. 2. 3.]\n",
            " [3. 4. 5.]] type: float64\n"
          ]
        }
      ],
      "source": [
        "#array of pre-defined values\n",
        "\n",
        "a1 = np.array([1, 2, 3])\n",
        "m1 = np.array([[1, 2, 3], [3,4, 5]], dtype = np.float64)\n",
        "\n",
        "print('a1: ', a1, 'type:', a1.dtype)\n",
        "print('m1: ', m1, 'type:', m1.dtype)"
      ]
    },
    {
      "cell_type": "code",
      "execution_count": null,
      "metadata": {
        "id": "Krem2eaRVY-I",
        "outputId": "3db4001c-bd30-42c8-93ec-4e0124d07731"
      },
      "outputs": [
        {
          "name": "stdout",
          "output_type": "stream",
          "text": [
            "a_zeros:  [[0. 0.]\n",
            " [0. 0.]\n",
            " [0. 0.]]\n",
            "a_ones: [[1. 1.]\n",
            " [1. 1.]\n",
            " [1. 1.]]\n"
          ]
        }
      ],
      "source": [
        "#array of all ones/zeros\n",
        "\n",
        "a_zeros = np.zeros((3, 2))\n",
        "a_ones = np.ones((3, 2))\n",
        "\n",
        "print('a_zeros: ', a_zeros)\n",
        "print('a_ones:', a_ones)"
      ]
    },
    {
      "cell_type": "code",
      "execution_count": null,
      "metadata": {
        "id": "jlYY16s1WYLY",
        "outputId": "2f886722-7e78-4a2d-9df5-e0a6aec18bed"
      },
      "outputs": [
        {
          "name": "stdout",
          "output_type": "stream",
          "text": [
            "shape of a: (4, 3)\n"
          ]
        }
      ],
      "source": [
        "#shapes\n",
        "\n",
        "a = np.array([[1, 2, 3],[2, 3, 4],[3, 4, 5],[4, 5, 6]])\n",
        "print('shape of a:', a.shape)"
      ]
    },
    {
      "cell_type": "code",
      "execution_count": null,
      "metadata": {
        "id": "AuL5VBfWXUuF",
        "outputId": "f995027c-5e0a-4c2d-ce7e-ab19ef509cd6"
      },
      "outputs": [
        {
          "name": "stdout",
          "output_type": "stream",
          "text": [
            "transpose of a: [[1 2 3 4]\n",
            " [2 3 4 5]\n",
            " [3 4 5 6]]\n",
            "transpose of a (second method): [[1 2 3 4]\n",
            " [2 3 4 5]\n",
            " [3 4 5 6]]\n"
          ]
        }
      ],
      "source": [
        "#transposing matrices and high-dimensional arrays\n",
        "\n",
        "a = np.array([[1, 2, 3],[2, 3, 4],[3, 4, 5],[4, 5, 6]])\n",
        "print('transpose of a:',a.T)\n",
        "#can also use the function np.transpose\n",
        "print('transpose of a (second method):', a.transpose(1, 0))"
      ]
    },
    {
      "cell_type": "code",
      "execution_count": null,
      "metadata": {
        "id": "YJwsoQTAaOjY",
        "outputId": "efec88b2-7fe3-4bc0-b1c9-b2f8cf13772b"
      },
      "outputs": [
        {
          "name": "stdout",
          "output_type": "stream",
          "text": [
            "[2 3 4]\n",
            "4\n",
            "[4 5]\n",
            "[[3 2 1]\n",
            " [4 3 2]\n",
            " [5 4 3]\n",
            " [6 5 4]]\n",
            "[4 6]\n",
            "[[ True  True False]\n",
            " [ True False False]\n",
            " [False False False]\n",
            " [False False False]]\n",
            "[[10 10  3]\n",
            " [10  3  4]\n",
            " [ 3  4  5]\n",
            " [ 4  5  6]]\n"
          ]
        }
      ],
      "source": [
        "#indexing arrays\n",
        "\n",
        "a = np.array([[1, 2, 3],[2, 3, 4],[3, 4, 5],[4, 5, 6]])\n",
        "\n",
        "print(a[1])\n",
        "print(a[1, 2])\n",
        "print(a[1:3, 2])\n",
        "print(a[:,::-1])\n",
        "print(a[[1, 3], 2])\n",
        "print(a < 3)\n",
        "\n",
        "a[a < 3] = 10\n",
        "print(a)"
      ]
    },
    {
      "cell_type": "code",
      "execution_count": null,
      "metadata": {
        "id": "zgkJCMdWcGZY",
        "outputId": "0c3abd06-9878-43f9-85f9-c56afeb3d0d4"
      },
      "outputs": [
        {
          "name": "stdout",
          "output_type": "stream",
          "text": [
            "a + b = [3 5 7]\n",
            "ab = [ 2  6 12]\n"
          ]
        }
      ],
      "source": [
        "#element-wise operations\n",
        "\n",
        "a = np.array([1, 2, 3])\n",
        "b = np.array([2, 3, 4])\n",
        "\n",
        "#addition\n",
        "\n",
        "print('a + b =', a + b)\n",
        "\n",
        "#element-wise multiplication\n",
        "print('ab =', a * b)"
      ]
    },
    {
      "cell_type": "code",
      "execution_count": null,
      "metadata": {
        "id": "-bcEbjlfcdEs",
        "outputId": "4beb14df-ec62-41a4-97eb-9b1cbb7654dc"
      },
      "outputs": [
        {
          "name": "stdout",
          "output_type": "stream",
          "text": [
            "[[2 4 6]\n",
            " [3 5 7]\n",
            " [4 6 8]]\n",
            "[[4 5 6]\n",
            " [5 6 7]\n",
            " [6 7 8]]\n"
          ]
        }
      ],
      "source": [
        "#broadcasting\n",
        "\n",
        "a = np.array([[1, 2, 3],[2, 3, 4],[3, 4, 5]])\n",
        "b= np.array([1, 2, 3])\n",
        "print(a + b)\n",
        "\n",
        "print(a + 3)"
      ]
    },
    {
      "cell_type": "code",
      "execution_count": null,
      "metadata": {
        "id": "yssIS91LcRvc",
        "outputId": "6abc10c9-6add-4955-e3e2-9e7e836250c6"
      },
      "outputs": [
        {
          "name": "stdout",
          "output_type": "stream",
          "text": [
            "sqrt of a: [1. 2. 4.]\n",
            "sin of a: [0.         1.         0.70710678]\n",
            "abolute value of a: [2 1 0 1 2]\n"
          ]
        }
      ],
      "source": [
        "#built-in mathematical operations\n",
        "\n",
        "a= np.array([1, 4, 16])\n",
        "print('sqrt of a:', np.sqrt(a))\n",
        "\n",
        "a = np.array([0, np.pi / 2, np.pi / 4])\n",
        "print('sin of a:', np.sin(a))\n",
        "\n",
        "a = np.array([-2, -1, 0, 1, 2])\n",
        "print('abolute value of a:', np.abs(a))"
      ]
    },
    {
      "cell_type": "code",
      "execution_count": null,
      "metadata": {
        "id": "7Done7wZekMV",
        "outputId": "217b763e-ff44-4770-e96e-56acee2360d0"
      },
      "outputs": [
        {
          "name": "stdout",
          "output_type": "stream",
          "text": [
            "m1.m2 =  [[14 20]\n",
            " [20 29]]\n",
            "m1.m2 =  [[14 20]\n",
            " [20 29]]\n",
            "m1.m2 =  [[14 20]\n",
            " [20 29]]\n"
          ]
        }
      ],
      "source": [
        "#matrix multiplication\n",
        "\n",
        "m1 = np.array([[1 ,2 ,3],[2, 3, 4]])\n",
        "m2 = np.array([[1, 2],[2, 3],[3, 4]])\n",
        "\n",
        "print('m1.m2 = ', np.matmul(m1, m2))\n",
        "print('m1.m2 = ', m1 @ m2)\n",
        "print('m1.m2 = ', np.dot(m1,m2))\n"
      ]
    },
    {
      "cell_type": "code",
      "execution_count": null,
      "metadata": {
        "id": "33Z55hVjbEpD",
        "outputId": "94638342-05b9-4197-80e1-2f626ed717dd"
      },
      "outputs": [
        {
          "name": "stdout",
          "output_type": "stream",
          "text": [
            "m1 X m2 =  [-1 -1]\n"
          ]
        }
      ],
      "source": [
        "m1 = np.array([[1, 2], [2, 3]])\n",
        "m2 = np.array([[2, 3], [3, 4]])\n",
        "\n",
        "print('m1 X m2 = ', np.cross(m1, m2))"
      ]
    },
    {
      "cell_type": "code",
      "execution_count": null,
      "metadata": {
        "id": "UuTd1Et1gABN",
        "outputId": "d36c5b00-7fd8-4059-cd80-9afdd7af8bac"
      },
      "outputs": [
        {
          "name": "stdout",
          "output_type": "stream",
          "text": [
            "inverse of m: [[1.         0.         0.        ]\n",
            " [0.         0.5        0.        ]\n",
            " [0.         0.         0.33333333]]\n"
          ]
        }
      ],
      "source": [
        "m = np.diag([1, 2, 3])\n",
        "print('inverse of m:', np.linalg.inv(m))"
      ]
    }
  ],
  "metadata": {
    "colab": {
      "collapsed_sections": [],
      "name": "numpy.ipynb",
      "provenance": [],
      "include_colab_link": true
    },
    "kernelspec": {
      "display_name": "Python 3",
      "name": "python3"
    },
    "language_info": {
      "codemirror_mode": {
        "name": "ipython",
        "version": 3
      },
      "file_extension": ".py",
      "mimetype": "text/x-python",
      "name": "python",
      "nbconvert_exporter": "python",
      "pygments_lexer": "ipython3",
      "version": "3.8.11"
    }
  },
  "nbformat": 4,
  "nbformat_minor": 0
}